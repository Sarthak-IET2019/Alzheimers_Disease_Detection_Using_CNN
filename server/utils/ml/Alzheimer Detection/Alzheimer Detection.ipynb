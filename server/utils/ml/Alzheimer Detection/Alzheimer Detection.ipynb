{
 "cells": [
  {
   "cell_type": "code",
   "execution_count": 8,
   "metadata": {
    "id": "M7zWZ7L_-qt6"
   },
   "outputs": [
    {
     "ename": "ModuleNotFoundError",
     "evalue": "No module named 'seaborn'",
     "output_type": "error",
     "traceback": [
      "\u001b[1;31m---------------------------------------------------------------------------\u001b[0m",
      "\u001b[1;31mModuleNotFoundError\u001b[0m                       Traceback (most recent call last)",
      "Cell \u001b[1;32mIn[8], line 2\u001b[0m\n\u001b[0;32m      1\u001b[0m \u001b[39mimport\u001b[39;00m \u001b[39mnumpy\u001b[39;00m \u001b[39mas\u001b[39;00m \u001b[39mnp\u001b[39;00m\n\u001b[1;32m----> 2\u001b[0m \u001b[39mimport\u001b[39;00m \u001b[39mseaborn\u001b[39;00m \u001b[39mas\u001b[39;00m \u001b[39msns\u001b[39;00m\n\u001b[0;32m      3\u001b[0m \u001b[39mimport\u001b[39;00m \u001b[39mmatplotlib\u001b[39;00m\u001b[39m.\u001b[39;00m\u001b[39mpyplot\u001b[39;00m \u001b[39mas\u001b[39;00m \u001b[39mplt\u001b[39;00m\n\u001b[0;32m      4\u001b[0m \u001b[39mimport\u001b[39;00m \u001b[39mtensorflow\u001b[39;00m \u001b[39mas\u001b[39;00m \u001b[39mtf\u001b[39;00m\n",
      "\u001b[1;31mModuleNotFoundError\u001b[0m: No module named 'seaborn'"
     ]
    }
   ],
   "source": [
    "import numpy as np\n",
    "import seaborn as sns\n",
    "import matplotlib.pyplot as plt\n",
    "import tensorflow as tf\n",
    "\n",
    "from sklearn.model_selection import train_test_split\n",
    "from sklearn.metrics import confusion_matrix\n",
    "\n",
    "from keras import Sequential, Input\n",
    "from keras.layers import Dense, Dropout, Conv2D, Flatten, SeparableConv2D, BatchNormalization, MaxPool2D\n",
    "from keras.callbacks import EarlyStopping\n",
    "from keras.preprocessing.image import ImageDataGenerator as IDG"
   ]
  },
  {
   "attachments": {},
   "cell_type": "markdown",
   "metadata": {},
   "source": [
    "### Defining Train and Test Paths"
   ]
  },
  {
   "cell_type": "code",
   "execution_count": null,
   "metadata": {
    "id": "M_ZRZq5K-qnQ"
   },
   "outputs": [],
   "source": [
    "BASE_DIR = \"Alzheimer_Dataset/\"\n",
    "TRAIN_DIR = BASE_DIR + 'train'\n",
    "TEST_DIR = BASE_DIR + 'test'\n",
    "\n",
    "CLASSES = [ 'NonDemented',\n",
    "            'VeryMildDemented',\n",
    "            'MildDemented',\n",
    "            'ModerateDemented']\n",
    "\n",
    "IMG_SIZE = 176\n",
    "DIM = (IMG_SIZE, IMG_SIZE)"
   ]
  },
  {
   "attachments": {},
   "cell_type": "markdown",
   "metadata": {},
   "source": [
    "### Generating Data using DataGenerator"
   ]
  },
  {
   "cell_type": "code",
   "execution_count": null,
   "metadata": {
    "colab": {
     "base_uri": "https://localhost:8080/"
    },
    "id": "rwXWN64U-qlJ",
    "outputId": "1736ddd4-889e-4b33-f772-1636c1fbd002"
   },
   "outputs": [
    {
     "name": "stdout",
     "output_type": "stream",
     "text": [
      "Found 5121 images belonging to 4 classes.\n"
     ]
    }
   ],
   "source": [
    "datagen = IDG(\n",
    "    rescale = 1./255, \n",
    "    brightness_range=[0.8, 1.2], \n",
    "    zoom_range=[.99, 1.01], \n",
    "    data_format=\"channels_last\", \n",
    "    fill_mode='constant',\n",
    "    horizontal_flip=True\n",
    ")\n",
    "\n",
    "train_data_gen = datagen.flow_from_directory(directory=TRAIN_DIR, target_size=DIM, batch_size=6500, shuffle=False)"
   ]
  },
  {
   "attachments": {},
   "cell_type": "markdown",
   "metadata": {},
   "source": [
    "### Retrieving features and labels"
   ]
  },
  {
   "cell_type": "code",
   "execution_count": null,
   "metadata": {
    "colab": {
     "base_uri": "https://localhost:8080/"
    },
    "id": "7nUt9GA0CzrZ",
    "outputId": "f7219278-9c04-4525-a50c-a0be964ce570"
   },
   "outputs": [
    {
     "name": "stdout",
     "output_type": "stream",
     "text": [
      "(5121, 176, 176, 3) (5121, 4)\n"
     ]
    }
   ],
   "source": [
    "#Retrieving the data from the ImageDataGenerator iterator\n",
    "train_data, train_labels = train_data_gen.next()\n",
    "\n",
    "#Getting to know the dimensions of our dataset\n",
    "print(train_data.shape, train_labels.shape)"
   ]
  },
  {
   "attachments": {},
   "cell_type": "markdown",
   "metadata": {},
   "source": [
    "### Splitting Train Test Data"
   ]
  },
  {
   "cell_type": "code",
   "execution_count": null,
   "metadata": {
    "id": "eUPkIuTaCOrK"
   },
   "outputs": [],
   "source": [
    "#Splitting the data into train, test, and validation sets\n",
    "train_data, val_data, train_labels, val_labels = train_test_split(train_data, \n",
    "                                                                  train_labels, \n",
    "                                                                  test_size = 0.2, \n",
    "                                                                  random_state=42)"
   ]
  },
  {
   "cell_type": "code",
   "execution_count": 4,
   "metadata": {
    "id": "_BeUGxgoCOmX"
   },
   "outputs": [],
   "source": [
    "def conv_block(filters, act='relu'):\n",
    "    \"\"\"Defining a Convolutional NN block for a Sequential CNN model. \"\"\"\n",
    "    \n",
    "    block = Sequential()\n",
    "    block.add(Conv2D(filters, 3, activation=act, padding='same'))\n",
    "    block.add(Conv2D(filters, 3, activation=act, padding='same'))\n",
    "    block.add(BatchNormalization())\n",
    "    block.add(MaxPool2D())\n",
    "    \n",
    "    return block\n",
    "\n",
    "def dense_block(units, dropout_rate, act='relu'):\n",
    "    \"\"\"Defining a Dense NN block for a Sequential CNN model. \"\"\"\n",
    "    \n",
    "    block = Sequential()\n",
    "    block.add(Dense(units, activation=act))\n",
    "    block.add(BatchNormalization())\n",
    "    block.add(Dropout(dropout_rate))\n",
    "    \n",
    "    return block\n",
    "\n",
    "def construct_model(act='relu'):\n",
    "    \"\"\"Constructing a Sequential CNN architecture for performing the classification task. \"\"\"\n",
    "    \n",
    "    model = Sequential([\n",
    "        Input(shape=(*[IMG_SIZE,IMG_SIZE], 3)),\n",
    "        Conv2D(16, 3, activation=act, padding='same'),\n",
    "        Conv2D(16, 3, activation=act, padding='same'),\n",
    "        MaxPool2D(),\n",
    "        conv_block(32),\n",
    "        conv_block(64),\n",
    "        conv_block(128),\n",
    "        Dropout(0.2),\n",
    "        conv_block(256),\n",
    "        Dropout(0.2),\n",
    "        Flatten(),\n",
    "        dense_block(512, 0.7),\n",
    "        dense_block(128, 0.5),\n",
    "        dense_block(64, 0.3),\n",
    "        Dense(4, activation='softmax')        \n",
    "    ], name = \"cnn_model\")\n",
    "\n",
    "    return model"
   ]
  },
  {
   "attachments": {},
   "cell_type": "markdown",
   "metadata": {},
   "source": [
    "### Defining MyCallback class"
   ]
  },
  {
   "attachments": {},
   "cell_type": "markdown",
   "metadata": {},
   "source": [
    "It says that when on the end of an epoch, the val accuracy crosses 0.99 stop the training."
   ]
  },
  {
   "cell_type": "code",
   "execution_count": 5,
   "metadata": {
    "id": "kW-_e2KPCOj_"
   },
   "outputs": [
    {
     "ename": "NameError",
     "evalue": "name 'tf' is not defined",
     "output_type": "error",
     "traceback": [
      "\u001b[1;31m---------------------------------------------------------------------------\u001b[0m",
      "\u001b[1;31mNameError\u001b[0m                                 Traceback (most recent call last)",
      "Cell \u001b[1;32mIn[5], line 1\u001b[0m\n\u001b[1;32m----> 1\u001b[0m \u001b[39mclass\u001b[39;00m \u001b[39mMyCallback\u001b[39;00m(tf\u001b[39m.\u001b[39mkeras\u001b[39m.\u001b[39mcallbacks\u001b[39m.\u001b[39mCallback):\n\u001b[0;32m      2\u001b[0m     \u001b[39mdef\u001b[39;00m \u001b[39mon_epoch_end\u001b[39m(\u001b[39mself\u001b[39m, epoch, logs\u001b[39m=\u001b[39m{}):\n\u001b[0;32m      3\u001b[0m         \u001b[39mif\u001b[39;00m logs\u001b[39m.\u001b[39mget(\u001b[39m'\u001b[39m\u001b[39mval_acc\u001b[39m\u001b[39m'\u001b[39m) \u001b[39m>\u001b[39m \u001b[39m0.99\u001b[39m:\n",
      "\u001b[1;31mNameError\u001b[0m: name 'tf' is not defined"
     ]
    }
   ],
   "source": [
    "class MyCallback(tf.keras.callbacks.Callback):\n",
    "    def on_epoch_end(self, epoch, logs={}):\n",
    "        if logs.get('val_acc') > 0.99:\n",
    "            print(\"\\nReached accuracy threshold! Terminating training.\")\n",
    "            self.model.stop_training = True\n",
    "            \n",
    "my_callback = MyCallback()\n",
    "CALLBACKS = [my_callback]"
   ]
  },
  {
   "cell_type": "code",
   "execution_count": 3,
   "metadata": {
    "id": "Oi3bGlbKCOho"
   },
   "outputs": [
    {
     "ename": "NameError",
     "evalue": "name 'construct_model' is not defined",
     "output_type": "error",
     "traceback": [
      "\u001b[1;31m---------------------------------------------------------------------------\u001b[0m",
      "\u001b[1;31mNameError\u001b[0m                                 Traceback (most recent call last)",
      "Cell \u001b[1;32mIn[3], line 1\u001b[0m\n\u001b[1;32m----> 1\u001b[0m model \u001b[39m=\u001b[39m construct_model()\n\u001b[0;32m      3\u001b[0m METRICS \u001b[39m=\u001b[39m [tf\u001b[39m.\u001b[39mkeras\u001b[39m.\u001b[39mmetrics\u001b[39m.\u001b[39mCategoricalAccuracy(name\u001b[39m=\u001b[39m\u001b[39m'\u001b[39m\u001b[39macc\u001b[39m\u001b[39m'\u001b[39m),\n\u001b[0;32m      4\u001b[0m            tf\u001b[39m.\u001b[39mkeras\u001b[39m.\u001b[39mmetrics\u001b[39m.\u001b[39mAUC(name\u001b[39m=\u001b[39m\u001b[39m'\u001b[39m\u001b[39mauc\u001b[39m\u001b[39m'\u001b[39m)]\n\u001b[0;32m      8\u001b[0m model\u001b[39m.\u001b[39mcompile(optimizer\u001b[39m=\u001b[39m\u001b[39m'\u001b[39m\u001b[39madam\u001b[39m\u001b[39m'\u001b[39m,\n\u001b[0;32m      9\u001b[0m               loss\u001b[39m=\u001b[39mtf\u001b[39m.\u001b[39mkeras\u001b[39m.\u001b[39mlosses\u001b[39m.\u001b[39mCategoricalCrossentropy(),\n\u001b[0;32m     10\u001b[0m               metrics\u001b[39m=\u001b[39mMETRICS)\n",
      "\u001b[1;31mNameError\u001b[0m: name 'construct_model' is not defined"
     ]
    }
   ],
   "source": [
    "model = construct_model()\n",
    "\n",
    "METRICS = [tf.keras.metrics.CategoricalAccuracy(name='acc'),\n",
    "           tf.keras.metrics.AUC(name='auc')]\n",
    "\n",
    "\n",
    "\n",
    "model.compile(optimizer='adam',\n",
    "              loss=tf.keras.losses.CategoricalCrossentropy(),\n",
    "              metrics=METRICS)\n",
    "\n",
    "# model.summary()"
   ]
  },
  {
   "cell_type": "code",
   "execution_count": 2,
   "metadata": {
    "colab": {
     "base_uri": "https://localhost:8080/"
    },
    "id": "W6M-SSsReyx6",
    "outputId": "69a463cf-c440-4a3c-cd91-21c25a1795bc"
   },
   "outputs": [
    {
     "ename": "NameError",
     "evalue": "name 'model' is not defined",
     "output_type": "error",
     "traceback": [
      "\u001b[1;31m---------------------------------------------------------------------------\u001b[0m",
      "\u001b[1;31mNameError\u001b[0m                                 Traceback (most recent call last)",
      "Cell \u001b[1;32mIn[2], line 4\u001b[0m\n\u001b[0;32m      1\u001b[0m \u001b[39m#Fit the training data to the model and validate it using the validation data\u001b[39;00m\n\u001b[0;32m      2\u001b[0m EPOCHS \u001b[39m=\u001b[39m \u001b[39m50\u001b[39m\n\u001b[1;32m----> 4\u001b[0m history \u001b[39m=\u001b[39m model\u001b[39m.\u001b[39mfit(train_data, train_labels, validation_data\u001b[39m=\u001b[39m(val_data, val_labels), callbacks\u001b[39m=\u001b[39mCALLBACKS, epochs\u001b[39m=\u001b[39mEPOCHS)\n\u001b[0;32m      5\u001b[0m model\u001b[39m.\u001b[39msave(\u001b[39m'\u001b[39m\u001b[39m../models/alzheimer_model.h5\u001b[39m\u001b[39m'\u001b[39m)\n",
      "\u001b[1;31mNameError\u001b[0m: name 'model' is not defined"
     ]
    }
   ],
   "source": [
    "#Fit the training data to the model and validate it using the validation data\n",
    "EPOCHS = 50\n",
    "\n",
    "history = model.fit(train_data, train_labels, validation_data=(val_data, val_labels), callbacks=CALLBACKS, epochs=EPOCHS)\n",
    "model.save('../models/alzheimer_model.h5')"
   ]
  },
  {
   "attachments": {},
   "cell_type": "markdown",
   "metadata": {},
   "source": [
    "### Plot model performance\n"
   ]
  },
  {
   "cell_type": "code",
   "execution_count": null,
   "metadata": {},
   "outputs": [],
   "source": [
    "acc = history.history['acc']\n",
    "val_acc = history.history['val_acc']\n",
    "loss = history.history['loss']\n",
    "val_loss = history.history['val_loss']\n",
    "epochs_range = range(1, len(history.epoch) + 1)\n",
    "\n",
    "plt.figure(figsize=(15,5))\n",
    "\n",
    "plt.subplot(1, 2, 1)\n",
    "plt.plot(epochs_range, acc, label='Train Set')\n",
    "plt.plot(epochs_range, val_acc, label='Val Set')\n",
    "plt.legend(loc=\"best\")\n",
    "plt.xlabel('Epochs')\n",
    "plt.ylabel('Accuracy')\n",
    "plt.title('Model Accuracy')\n",
    "\n",
    "plt.subplot(1, 2, 2)\n",
    "plt.plot(epochs_range, loss, label='Train Set')\n",
    "plt.plot(epochs_range, val_loss, label='Val Set')\n",
    "plt.legend(loc=\"best\")\n",
    "plt.xlabel('Epochs')\n",
    "plt.ylabel('Loss')\n",
    "plt.title('Model Loss')\n",
    "\n",
    "plt.tight_layout()\n",
    "plt.show()"
   ]
  },
  {
   "attachments": {},
   "cell_type": "markdown",
   "metadata": {},
   "source": [
    "### Predicting the test data"
   ]
  },
  {
   "cell_type": "code",
   "execution_count": null,
   "metadata": {
    "id": "jpJM5PEFeze6"
   },
   "outputs": [],
   "source": [
    "pred_labels = model.predict(test_data)"
   ]
  },
  {
   "attachments": {},
   "cell_type": "markdown",
   "metadata": {},
   "source": [
    "### Plot the confusion matrix to understand the classification in detail"
   ]
  },
  {
   "cell_type": "code",
   "execution_count": null,
   "metadata": {
    "colab": {
     "base_uri": "https://localhost:8080/",
     "height": 444
    },
    "id": "Hrfu0QNSezaK",
    "outputId": "ed2c406b-9ee7-4a98-fbe2-d04f268ca518"
   },
   "outputs": [
    {
     "ename": "NameError",
     "evalue": "name 'np' is not defined",
     "output_type": "error",
     "traceback": [
      "\u001b[1;31m---------------------------------------------------------------------------\u001b[0m",
      "\u001b[1;31mNameError\u001b[0m                                 Traceback (most recent call last)",
      "Cell \u001b[1;32mIn[1], line 1\u001b[0m\n\u001b[1;32m----> 1\u001b[0m pred_ls \u001b[39m=\u001b[39m np\u001b[39m.\u001b[39margmax(pred_labels, axis\u001b[39m=\u001b[39m\u001b[39m1\u001b[39m)\n\u001b[0;32m      2\u001b[0m test_ls \u001b[39m=\u001b[39m np\u001b[39m.\u001b[39margmax(test_labels, axis\u001b[39m=\u001b[39m\u001b[39m1\u001b[39m)\n\u001b[0;32m      4\u001b[0m conf_arr \u001b[39m=\u001b[39m confusion_matrix(test_ls, pred_ls)\n",
      "\u001b[1;31mNameError\u001b[0m: name 'np' is not defined"
     ]
    }
   ],
   "source": [
    "pred_ls = np.argmax(pred_labels, axis=1)\n",
    "test_ls = np.argmax(test_labels, axis=1)\n",
    "\n",
    "conf_arr = confusion_matrix(test_ls, pred_ls)\n",
    "\n",
    "plt.figure(figsize=(8, 6), dpi=80, facecolor='w', edgecolor='k')\n",
    "\n",
    "ax = sns.heatmap(conf_arr, cmap='Greens', annot=True, fmt='d', xticklabels=CLASSES, yticklabels=CLASSES)\n",
    "\n",
    "plt.title('Alzheimer\\'s Disease Diagnosis')\n",
    "plt.xlabel('Prediction')\n",
    "plt.ylabel('Truth')\n",
    "plt.show(ax)"
   ]
  }
 ],
 "metadata": {
  "colab": {
   "name": "Alzheimer detection.ipynb",
   "provenance": []
  },
  "kernelspec": {
   "display_name": "Python 3 (ipykernel)",
   "language": "python",
   "name": "python3"
  },
  "language_info": {
   "codemirror_mode": {
    "name": "ipython",
    "version": 3
   },
   "file_extension": ".py",
   "mimetype": "text/x-python",
   "name": "python",
   "nbconvert_exporter": "python",
   "pygments_lexer": "ipython3",
   "version": "3.11.0"
  }
 },
 "nbformat": 4,
 "nbformat_minor": 1
}
